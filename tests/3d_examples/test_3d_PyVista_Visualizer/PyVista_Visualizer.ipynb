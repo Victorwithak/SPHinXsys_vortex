{
 "cells": [
  {
   "cell_type": "markdown",
   "id": "519d6064-b978-47fe-93a6-c877b786d7e4",
   "metadata": {},
   "source": [
    "# Quick Visualizer SPHinXsys - Water/Fluid interactions\n",
    "\n",
    "## Import required libraries\n",
    "\n",
    "the VTK and PyVista libararies are not automatically included in jupyter notebook! Make sure you install them in your anaconda prompt, or delete the '#' in the following cell. These libraries only work in Python 3, so make sure your kernel is compatible."
   ]
  },
  {
   "cell_type": "code",
   "execution_count": 1,
   "id": "0dd01b72-fe9a-46fb-8ed8-c4edda84847a",
   "metadata": {},
   "outputs": [],
   "source": [
    "# %pip install pyvista vtk"
   ]
  },
  {
   "cell_type": "code",
   "execution_count": 2,
   "id": "b63d5205-ce66-4784-85df-a69e9e8d6468",
   "metadata": {},
   "outputs": [],
   "source": [
    "import glob\n",
    "import vtk\n",
    "import numpy as np\n",
    "import pyvista as pv\n",
    "import matplotlib.pyplot as plt\n",
    "import time"
   ]
  },
  {
   "cell_type": "markdown",
   "id": "4c462230-97d8-4fc1-8ad3-03beb14bbf62",
   "metadata": {},
   "source": [
    "## Import the required files\n",
    "\n",
    "Make sure you have run the SPHinxSys programm and created the required the .vtp files. Change the directory to what corresponds to your .vtp files (usually ends in 'bin/output/WaterBody____.vtp', but you need to check yourself)"
   ]
  },
  {
   "cell_type": "code",
   "execution_count": 3,
   "id": "372d41e1-9dce-4f70-923b-da70470ad857",
   "metadata": {},
   "outputs": [],
   "source": [
    "water     = glob.glob(\"output/WaterBody_*.vtp\")\n",
    "frames    = len(water)\n",
    "wall      = glob.glob(\"output/Wall*.vtp\")"
   ]
  },
  {
   "cell_type": "markdown",
   "id": "bafbd26f-39e0-40a8-b5b0-c4998fd16e30",
   "metadata": {},
   "source": [
    "## Read the required files and generate the grid\n",
    "\n",
    "Read the required files and make an initial plot, this is just to test whether your code reads the program correctly. More documentation can be found here: https://examples.vtk.org/site/Python/IO/ReadPolyData/ , https://vtk.org/doc/nightly/html/classvtkPoints.html and https://examples.vtk.org/site/Python/Snippets/ReadPolyData/ .\n",
    "\n",
    "##### 'location' and 'speed' are lists\n",
    "##### 'grid' and 'velocity' are arrays\n",
    "Currently the code outputs arrays, but if you prefer lists for other uses, know that you need to call location and speed."
   ]
  },
  {
   "cell_type": "code",
   "execution_count": 4,
   "id": "08cad859-c3ea-41d6-a45b-3c718e148d94",
   "metadata": {},
   "outputs": [],
   "source": [
    "reader   = vtk.vtkXMLPolyDataReader()"
   ]
  },
  {
   "cell_type": "code",
   "execution_count": 5,
   "id": "52507b0a-15dd-48d6-8a60-918b9def8b75",
   "metadata": {},
   "outputs": [],
   "source": [
    "def reading(frame):    #This function reads a certain frame and generates the output\n",
    "    reader.SetFileName(water[frame])\n",
    "    reader.Update() \n",
    "    \n",
    "    output      = reader.GetOutput()\n",
    "    points      = output.GetPoints()\n",
    "    n_points    = output.GetNumberOfPoints()\n",
    "    speed_array = output.GetPointData().GetArray(\"Velocity\")\n",
    "    location    = []\n",
    "    speed       = []\n",
    "    for i in range(n_points):\n",
    "        current_point    = points.GetPoint(i)\n",
    "        current_speed    = speed_array.GetTuple3(i)\n",
    "        current_speed    = np.linalg.norm(current_speed)\n",
    "        location.append(current_point)\n",
    "        speed.append(current_speed)\n",
    "        \n",
    "    grid        = np.stack(location)\n",
    "    velocity    = np.stack(speed   )\n",
    "    return grid, velocity"
   ]
  },
  {
   "cell_type": "code",
   "execution_count": 6,
   "id": "c0b14837-310b-4ef7-976d-a0fbf73e5abc",
   "metadata": {},
   "outputs": [],
   "source": [
    "def reading_wall(wall):  #This function reads the wall boundary\n",
    "    reader.SetFileName(wall[0])\n",
    "    reader.Update() \n",
    "    \n",
    "    output     = reader.GetOutput()\n",
    "    points     = output.GetPoints()\n",
    "    n_points   = output.GetNumberOfPoints()\n",
    "    barrier    = []\n",
    "    for i in range(n_points):\n",
    "        barrier.append(points.GetPoint(i))\n",
    "    grid       = np.stack(barrier)\n",
    "    return grid"
   ]
  },
  {
   "cell_type": "markdown",
   "id": "5ebaf2f4-e8ba-4f0c-9ffe-3d55a6abc628",
   "metadata": {},
   "source": [
    "## Make a .gif of your points.\n",
    "\n",
    "https://docs.pyvista.org/examples/02-plot/gif.html has a great example of how .gif's are created in PyVista. You can change some things according to your preference. Like the particle size, opacity, but you can also adjust the colormap to your preferences. Use https://matplotlib.org/stable/gallery/color/colormap_reference.html where you can see all the colormaps that are included in Matplotlib.\n",
    "\n",
    "You can change the camera position in many ways, but you can also manually place the camera in a position. Please refer to: https://docs.pyvista.org/api/plotting/_autosummary/pyvista.plotter.camera_position\n",
    "\n",
    "##### note: \n",
    "It is a known problem that the colorbar is not extremely stable in PyVista. As soon as I've found a solution for that I'll implement it\n"
   ]
  },
  {
   "cell_type": "code",
   "execution_count": 7,
   "id": "4794e638-d789-4cd5-adae-33a74fb03c7e",
   "metadata": {},
   "outputs": [
    {
     "name": "stdout",
     "output_type": "stream",
     "text": [
      "start creating .gif\n"
     ]
    },
    {
     "name": "stderr",
     "output_type": "stream",
     "text": [
      "C:\\Users\\vikto\\anaconda3\\Lib\\site-packages\\pyvista\\plotting\\plotter.py:4892: PyVistaDeprecationWarning: This method is deprecated and will be removed in a future version of PyVista. Directly modify the points of a mesh in-place instead.\n",
      "  warnings.warn(\n",
      "C:\\Users\\vikto\\anaconda3\\Lib\\site-packages\\pyvista\\plotting\\plotter.py:4814: PyVistaDeprecationWarning: This method is deprecated and will be removed in a future version of PyVista. Directly modify the scalars of a mesh in-place instead.\n",
      "  warnings.warn(\n"
     ]
    },
    {
     "name": "stdout",
     "output_type": "stream",
     "text": [
      "Currently at 0.0% of 98 frames. Total time 0 seconds, time since last update 0 seconds \n",
      "Currently at 10.0% of 98 frames. Total time 4 seconds, time since last update 3 seconds \n",
      "Currently at 20.0% of 98 frames. Total time 7 seconds, time since last update 3 seconds \n",
      "Currently at 30.0% of 98 frames. Total time 11 seconds, time since last update 3 seconds \n",
      "Currently at 40.0% of 98 frames. Total time 15 seconds, time since last update 3 seconds \n",
      "Currently at 50.0% of 98 frames. Total time 19 seconds, time since last update 3 seconds \n",
      "Currently at 60.0% of 98 frames. Total time 22 seconds, time since last update 3 seconds \n",
      "Currently at 70.0% of 98 frames. Total time 26 seconds, time since last update 3 seconds \n",
      "Currently at 80.0% of 98 frames. Total time 30 seconds, time since last update 3 seconds \n",
      "Currently at 90.0% of 98 frames. Total time 33 seconds, time since last update 3 seconds \n",
      "Currently at 100.0% of 98 frames. Total time 37 seconds, time since last update 3 seconds \n",
      "All done compiling frames\n",
      ".gif created, enjoy!\n"
     ]
    }
   ],
   "source": [
    "#create the plot itself\n",
    "plotter = pv.Plotter(notebook=False, off_screen=True)\n",
    "\n",
    "#This is the wall boundary\n",
    "#(don't delete the section, it helps the camera position)\n",
    "plotter.add_points(\n",
    "    reading_wall(wall),\n",
    "    opacity= 0.005,                   #set this to zero if you don't want to see the wall at all \n",
    "    render_points_as_spheres=True,\n",
    "    point_size=5                      #change the size of the particles accordingly\n",
    ")\n",
    "\n",
    "#These are the initial fluid particles\n",
    "plotter.add_points(\n",
    "    reading(0)[0],\n",
    "    scalars = reading(0)[1],\n",
    "    opacity= 1,                       #opacity of the water particles. If you want to have a cut through a certain axis, see the next kernel\n",
    "    cmap='turbo',    \n",
    "    clim=[0, 0.5],                    \n",
    "    render_points_as_spheres=True,\n",
    "    point_size=5                      #change the size of the particles accordingly\n",
    ")\n",
    "plotter.set_background(\"white\")\n",
    "plotter.camera_position = 'xy'        #the first letter is the horizontal axis the second axis is the vertical axis. \n",
    "\n",
    "#Open the give and give it a name\n",
    "plotter.open_gif(\"test_full_dambreak.gif\")   \n",
    "\n",
    "nframe = 15\n",
    "print(f\"start creating .gif\")\n",
    "\n",
    "starttime = time.time()\n",
    "midtime   = starttime\n",
    "for j in range(int(frames)):\n",
    "    pts, vel  = reading(j)\n",
    "    plotter.update_coordinates(pts, render=False)\n",
    "    plotter.update_scalars(vel, render=False)\n",
    "    plotter.write_frame()\n",
    "    if j % int(frames/10) == 0:\n",
    "        print(f\"Currently at {j/int(frames/10)*10}% of {int(frames)} frames. Total time {int(time.time() - starttime)} seconds, time since last update {int(time.time() - midtime)} seconds \")\n",
    "        midtime = time.time()\n",
    "\n",
    "print(f\"All done compiling frames\")\n",
    "\n",
    "plotter.close()\n",
    "print(f\".gif created, enjoy!\")"
   ]
  },
  {
   "cell_type": "markdown",
   "id": "e85ab2a4-90f5-430d-82b0-9afe2dffe395",
   "metadata": {},
   "source": [
    "## Make a .gif of a crossection\n",
    "\n",
    "This is useful in the case that you want to make a plot of the internal crossection. \n",
    "\n",
    "##### note: \n",
    "This is a slower method, because you can't use the .update_coordinates command. You have to clear and rewrite each frame. it makes it a bit more slow. But it does give a clear picture of what happens internally\n"
   ]
  },
  {
   "cell_type": "code",
   "execution_count": 8,
   "id": "1c9695f8-9b7f-4c7d-910e-782542b735cb",
   "metadata": {},
   "outputs": [],
   "source": [
    "def reading_percentage(frame, direction, cutoff, upperlower):    #This function reads a certain frame and generates the output\n",
    "    reader.SetFileName(water[frame])\n",
    "    reader.Update() \n",
    "    \n",
    "    output      = reader.GetOutput()\n",
    "    points      = output.GetPoints()\n",
    "    n_points    = output.GetNumberOfPoints()\n",
    "    speed_array = output.GetPointData().GetArray(\"Velocity\")\n",
    "    location    = []\n",
    "    speed       = []\n",
    "    for i in range(n_points):\n",
    "        current_point    = points.GetPoint(i)\n",
    "        current_speed    = speed_array.GetTuple3(i)\n",
    "        current_speed    = np.linalg.norm(current_speed)\n",
    "        \n",
    "        if upperlower == 1 and current_point[direction] > cutoff:\n",
    "            location.append(current_point)\n",
    "            speed.append(current_speed)\n",
    "        elif upperlower == 0 and current_point[direction] < cutoff:\n",
    "            location.append(current_point)\n",
    "            speed.append(current_speed)\n",
    "        \n",
    "    grid        = np.stack(location)\n",
    "    velocity    = np.stack(speed   )\n",
    "    return grid, velocity"
   ]
  },
  {
   "cell_type": "code",
   "execution_count": 9,
   "id": "10ec04ab-cccc-45d6-8890-9eee50d177e3",
   "metadata": {},
   "outputs": [
    {
     "name": "stdout",
     "output_type": "stream",
     "text": [
      "start creating .gif\n",
      "Currently at 0.0% of 98 frames. Total time 0 seconds, time since last update 0 seconds \n",
      "Currently at 10.0% of 98 frames. Total time 4 seconds, time since last update 3 seconds \n",
      "Currently at 20.0% of 98 frames. Total time 7 seconds, time since last update 3 seconds \n",
      "Currently at 30.0% of 98 frames. Total time 11 seconds, time since last update 3 seconds \n",
      "Currently at 40.0% of 98 frames. Total time 15 seconds, time since last update 4 seconds \n",
      "Currently at 50.0% of 98 frames. Total time 19 seconds, time since last update 3 seconds \n",
      "Currently at 60.0% of 98 frames. Total time 23 seconds, time since last update 3 seconds \n",
      "Currently at 70.0% of 98 frames. Total time 27 seconds, time since last update 3 seconds \n",
      "Currently at 80.0% of 98 frames. Total time 31 seconds, time since last update 4 seconds \n",
      "Currently at 90.0% of 98 frames. Total time 34 seconds, time since last update 3 seconds \n",
      "Currently at 100.0% of 98 frames. Total time 38 seconds, time since last update 4 seconds \n",
      "All done compiling frames\n",
      ".gif created, enjoy!\n"
     ]
    }
   ],
   "source": [
    "#create the plot itself\n",
    "plotter = pv.Plotter(notebook=False, off_screen=True)\n",
    "\n",
    "#This is the wall boundary\n",
    "#(don't delete the section, it helps the camera position)\n",
    "plotter.add_points(\n",
    "    reading_wall(wall),\n",
    "    opacity= 0.0,                   #set this to zero if you don't want to see the wall at all \n",
    "    render_points_as_spheres=True,\n",
    "    point_size=5                      #change the size of the particles accordingly\n",
    ")\n",
    "\n",
    "#These are the initial fluid particles\n",
    "pts, vel  = reading_percentage(0, 1, 0.25, 0)    \n",
    "plotter.add_points(\n",
    "        points = pts,\n",
    "        scalars = vel,\n",
    "        opacity= 1,                       #opacity of the water particles. If you want to have a cut through a certain axis, see the next kernel\n",
    "        cmap='turbo',    \n",
    "        clim=[0, 0.5],                   \n",
    "        render_points_as_spheres=True,\n",
    "        point_size=5                      #change this to the particle size of your choosing\n",
    ")\n",
    "plotter.set_background(\"white\")\n",
    "plotter.camera_position = 'xz'           #the first letter is the horizontal axis the second axis is the vertical axis. \n",
    "\n",
    "\n",
    "#Open the give and give it a name\n",
    "plotter.open_gif(\"test_cross_section.gif\")   \n",
    "\n",
    "nframe = 15\n",
    "print(f\"start creating .gif\")\n",
    "\n",
    "starttime = time.time()\n",
    "midtime   = starttime\n",
    "for j in range(int(frames)):\n",
    "    pts, vel  = reading_percentage(j, 1, 0.25, 0)\n",
    "    plotter.clear()\n",
    "    plotter.add_points(\n",
    "        pts,\n",
    "        scalars = vel,\n",
    "        opacity= 1,                       #opacity of the water particles. If you want to have a cut through a certain axis, see the next kernel\n",
    "        cmap='turbo',    \n",
    "        clim=[0, 0.5],                    \n",
    "        render_points_as_spheres=True,\n",
    "        point_size=5                      #change this to the particle size of your choosing\n",
    "    )\n",
    "    \n",
    "    plotter.write_frame()\n",
    "    if j % int(frames/10) == 0:\n",
    "        print(f\"Currently at {j/int(frames/10)*10}% of {int(frames)} frames. Total time {int(time.time() - starttime)} seconds, time since last update {int(time.time() - midtime)} seconds \")\n",
    "        midtime = time.time()\n",
    "print(f\"All done compiling frames\")\n",
    "\n",
    "# Closes and finalizes movie\n",
    "plotter.close()\n",
    "print(f\".gif created, enjoy!\")"
   ]
  }
 ],
 "metadata": {
  "kernelspec": {
   "display_name": "Python [conda env:base] *",
   "language": "python",
   "name": "conda-base-py"
  },
  "language_info": {
   "codemirror_mode": {
    "name": "ipython",
    "version": 3
   },
   "file_extension": ".py",
   "mimetype": "text/x-python",
   "name": "python",
   "nbconvert_exporter": "python",
   "pygments_lexer": "ipython3",
   "version": "3.12.7"
  }
 },
 "nbformat": 4,
 "nbformat_minor": 5
}
